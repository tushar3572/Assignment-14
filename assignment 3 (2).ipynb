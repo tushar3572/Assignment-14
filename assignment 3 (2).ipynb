{
 "cells": [
  {
   "cell_type": "code",
   "execution_count": 7,
   "id": "641ef7b0-8c38-471a-b99e-e7fb25a0f9c0",
   "metadata": {},
   "outputs": [],
   "source": [
    "    #Answer : 1\n",
    "    \n",
    "import pandas as pd     "
   ]
  },
  {
   "cell_type": "code",
   "execution_count": 8,
   "id": "7275f7ff-10b3-4655-9299-d1979e663d29",
   "metadata": {},
   "outputs": [
    {
     "name": "stdout",
     "output_type": "stream",
     "text": [
      "course_name    Machine Learning\n",
      "duration                      3\n",
      "Name: 1, dtype: object\n"
     ]
    }
   ],
   "source": [
    "course_name = ['Data Science', 'Machine Learning', 'Big Data', 'Data Engineer']\n",
    "duration = [2,3,6,4]\n",
    "\n",
    "df = pd.DataFrame(data={'course_name': course_name, 'duration': duration})\n",
    "\n",
    "second_row_data = df.iloc[1]\n",
    "print(second_row_data)"
   ]
  },
  {
   "cell_type": "code",
   "execution_count": null,
   "id": "55c1bb0c-6d75-4b3f-b262-91f85471c29c",
   "metadata": {},
   "outputs": [],
   "source": [
    "    #Answer : 2\n",
    "    \n",
    "The loc and iloc functions in Pandas are used to slice a data set.\n",
    "The function . loc is primarily used for label indexing, while . iloc is mainly used for integer indexing.    "
   ]
  },
  {
   "cell_type": "code",
   "execution_count": null,
   "id": "8bf3d1df-4bc3-441e-9b10-f471bb9867e2",
   "metadata": {},
   "outputs": [],
   "source": [
    "    #Answer : 3\n",
    "    \n",
    "When you reindex a DataFrame using a custom index like [3, 0, 1, 2], it changes the order of the rows based on the specified index. \n",
    "This can affect the output of new_df.loc[2] and new_df.iloc[2].   \n",
    "\n",
    "To summarize:\n",
    "\n",
    "new_df.loc[2] will give you the row labeled '2' (original index 1).\n",
    "new_df.iloc[2] will give you the row at the integer position 2 (original index 1). \n",
    "\n",
    "So, there is a difference in the outputs of new_df.loc[2] and new_df.iloc[2] due to the reindexing,\n",
    "but they both point to the same row in the original DataFrame df."
   ]
  },
  {
   "cell_type": "code",
   "execution_count": null,
   "id": "49136bb9-c876-4573-a73f-c73476b761b8",
   "metadata": {},
   "outputs": [],
   "source": [
    "    #Answer : 4\n",
    "    \n",
    "import pandas as pd\n",
    "import numpy as np\n",
    "\n",
    "# Create the DataFrame df1\n",
    "columns = ['column_1', 'column_2', 'column_3', 'column_4', 'column_5', 'column_6']\n",
    "indices = [1, 2, 3, 4, 5, 6]\n",
    "df1 = pd.DataFrame(np.random.rand(6, 6), columns=columns, index=indices)\n",
    "\n",
    "# (i) Mean of each and every column present in the dataframe\n",
    "column_means = df1.mean()\n",
    "\n",
    "# (ii) Standard deviation of column 'column_2'\n",
    "std_dev_column_2 = df1['column_2'].std()\n",
    "\n",
    "print(\"Mean of each column:\")\n",
    "print(column_means)\n",
    "print(\"\\nStandard Deviation of 'column_2':\")\n",
    "print(std_dev_column_2)\n",
    "    "
   ]
  },
  {
   "cell_type": "code",
   "execution_count": null,
   "id": "aec8eaa1-5394-4e86-b968-48e1fb07f2f2",
   "metadata": {},
   "outputs": [],
   "source": [
    "    #Answer : 5\n",
    "    \n",
    "import pandas as pd\n",
    "import numpy as np\n",
    "\n",
    "columns = ['column_1', 'column_2', 'column_3', 'column_4', 'column_5', 'column_6']\n",
    "indices = [1, 2, 3, 4, 5, 6]\n",
    "\n",
    "# Creating a DataFrame with random numeric values\n",
    "df1 = pd.DataFrame(np.random.rand(6, 6), columns=columns, index=indices)\n",
    "\n",
    "# Replace the data in the second row of 'column_2' with a string\n",
    "df1.loc[2, 'column_2'] = 'NewString'\n",
    "\n",
    "# Attempt to calculate the mean of 'column_2'\n",
    "mean_column_2 = df1['column_2'].mean()\n",
    "\n",
    "print(mean_column_2)\n",
    "    "
   ]
  },
  {
   "cell_type": "code",
   "execution_count": null,
   "id": "17c1d4fa-d6a7-4068-bad9-a833317d3719",
   "metadata": {},
   "outputs": [],
   "source": [
    "    #Answer : 6\n",
    "    \n",
    "In Pandas, window functions (also known as rolling or moving window functions) are a powerful tool for \n",
    "performing calculations on a specific \"window\" of data as it moves through your DataFrame. \n",
    "These functions allow you to perform operations on subsets of data based on a defined window size or criteria. \n",
    "Window functions are commonly used for tasks like calculating moving averages, cumulative sums, or ranking values within a window of data.  \n",
    "\n",
    "pandas supports 4 types of windowing operations:\n",
    "1.Rolling window: Generic fixed or variable sliding window over the values.\n",
    "2.Weighted window: Weighted, non-rectangular window supplied by the scipy. \n",
    "3.Expanding window: Accumulating window over the values.\n",
    "4.Exponentially weighted window"
   ]
  },
  {
   "cell_type": "code",
   "execution_count": 9,
   "id": "511f17d0-3134-4105-9e31-37559acba617",
   "metadata": {},
   "outputs": [
    {
     "name": "stdout",
     "output_type": "stream",
     "text": [
      "Current Month: October, Current Year: 2023\n"
     ]
    },
    {
     "name": "stderr",
     "output_type": "stream",
     "text": [
      "/tmp/ipykernel_1487/1016719910.py:6: FutureWarning: The parsing of 'now' in pd.to_datetime without `utc=True` is deprecated. In a future version, this will match Timestamp('now') and Timestamp.now()\n",
      "  current_datetime = pd.to_datetime('now')\n"
     ]
    }
   ],
   "source": [
    "    #Answer  : 7\n",
    "    \n",
    "import pandas as pd\n",
    "\n",
    "# Get the current date and time\n",
    "current_datetime = pd.to_datetime('now')\n",
    "\n",
    "# Extract the current month and year\n",
    "current_month = current_datetime.strftime('%B')  # Full month name\n",
    "current_year = current_datetime.year\n",
    "\n",
    "# Print the current month and year\n",
    "print(f\"Current Month: {current_month}, Current Year: {current_year}\")\n",
    "    "
   ]
  },
  {
   "cell_type": "code",
   "execution_count": 10,
   "id": "a7179d8d-2a41-42e0-8fd3-a99870344ffb",
   "metadata": {},
   "outputs": [
    {
     "name": "stdin",
     "output_type": "stream",
     "text": [
      "Enter the first date (YYYY-MM-DD):  2003 08 06\n",
      "Enter the second date (YYYY-MM-DD):  2003 08 17\n"
     ]
    },
    {
     "name": "stdout",
     "output_type": "stream",
     "text": [
      "Time Difference: 11 days, 0 hours, 0 minutes\n"
     ]
    }
   ],
   "source": [
    "    #Answer : 8\n",
    "    \n",
    "import pandas as pd\n",
    "\n",
    "# Get user input for two dates\n",
    "date_str1 = input(\"Enter the first date (YYYY-MM-DD): \")\n",
    "date_str2 = input(\"Enter the second date (YYYY-MM-DD): \")\n",
    "\n",
    "# Convert input strings to datetime objects\n",
    "date1 = pd.to_datetime(date_str1)\n",
    "date2 = pd.to_datetime(date_str2)\n",
    "\n",
    "# Calculate the time difference\n",
    "time_difference = date2 - date1\n",
    "\n",
    "# Extract days, hours, and minutes from the time difference\n",
    "days = time_difference.days\n",
    "hours, remainder = divmod(time_difference.seconds, 3600)\n",
    "minutes = remainder // 60\n",
    "\n",
    "# Display the result\n",
    "print(f\"Time Difference: {days} days, {hours} hours, {minutes} minutes\")\n",
    "    "
   ]
  },
  {
   "cell_type": "code",
   "execution_count": null,
   "id": "09f715ff-9c84-4ff8-8865-c3a42a4e8e8e",
   "metadata": {},
   "outputs": [],
   "source": [
    "   #Answer : 9\n",
    "    \n",
    "import pandas as pd\n",
    "\n",
    "# Function to read CSV, convert column to categorical, and display sorted data\n",
    "def convert_to_categorical_and_sort():\n",
    "    # Prompt the user for the file path\n",
    "    file_path = input(\"Enter the path to the CSV file: \")\n",
    "\n",
    "    try:\n",
    "        # Read the CSV file into a DataFrame\n",
    "        df = pd.read_csv(file_path)\n",
    "\n",
    "        # Prompt the user for the column name to convert\n",
    "        column_name = input(\"Enter the column name to convert to categorical: \")\n",
    "\n",
    "        # Check if the specified column exists in the DataFrame\n",
    "        if column_name not in df.columns:\n",
    "            print(f\"Column '{column_name}' not found in the CSV file.\")\n",
    "            return\n",
    "\n",
    "        # Prompt the user for the category order\n",
    "        category_order = input(\"Enter the category order (comma-separated values): \").split(',')\n",
    "\n",
    "        # Convert the specified column to a categorical data type with the provided category order\n",
    "        df[column_name] = pd.Categorical(df[column_name], categories=category_order, ordered=True)\n",
    "\n",
    "        # Sort the DataFrame based on the categorical column\n",
    "        sorted_df = df.sort_values(by=[column_name])\n",
    "\n",
    "        # Display the sorted data\n",
    "        print(\"Sorted Data:\")\n",
    "        print(sorted_df)\n",
    "\n",
    "    except FileNotFoundError:\n",
    "        print(\"File not found. Please check the file path.\")\n",
    "    except Exception as e:\n",
    "        print(f\"An error occurred: {str(e)}\")\n",
    "\n",
    "# Call the function to perform the conversion and sorting\n",
    "convert_to_categorical_and_sort()\n",
    "    "
   ]
  },
  {
   "cell_type": "code",
   "execution_count": null,
   "id": "37551fcb-8bb7-4274-9137-1b222177db50",
   "metadata": {},
   "outputs": [],
   "source": [
    " #Answer : 10\n",
    "    \n",
    "import pandas as pd\n",
    "import matplotlib.pyplot as plt\n",
    "\n",
    "# Read the CSV file containing sales data into a DataFrame\n",
    "file_path = 'sales_data.csv'  # Update with your file path\n",
    "df = pd.read_csv(file_path)\n",
    "\n",
    "# Assuming the CSV file has columns 'Product_Category' and 'Sales'\n",
    "# Group the data by 'Product_Category' and sum the 'Sales' within each category\n",
    "sales_by_category = df.groupby('Product_Category')['Sales'].sum()\n",
    "\n",
    "# Create a stacked bar chart\n",
    "plt.figure(figsize=(10, 6))\n",
    "sales_by_category.plot(kind='bar', stacked=True)\n",
    "\n",
    "# Set labels and title\n",
    "plt.xlabel('Product Category')\n",
    "plt.ylabel('Total Sales')\n",
    "plt.title('Sales by Product Category')\n",
    "\n",
    "# Display the stacked bar chart\n",
    "plt.tight_layout()\n",
    "plt.show()"
   ]
  },
  {
   "cell_type": "code",
   "execution_count": null,
   "id": "851f508a-0cb7-4188-89fe-a34fd36b2d0a",
   "metadata": {},
   "outputs": [],
   "source": [
    "     #Answer : 11\n",
    "    \n",
    "import pandas as pd\n",
    "from tabulate import tabulate\n",
    "\n",
    "# Prompt the user for the file path of the CSV file containing student data\n",
    "file_path = input(\"Enter the file path of the CSV file containing student data: \")\n",
    "\n",
    "try:\n",
    "    # Read the CSV file into a Pandas DataFrame\n",
    "    df = pd.read_csv(file_path)\n",
    "    \n",
    "    # Calculate mean, median, and mode of the test scores\n",
    "    mean_score = df['Test Score'].mean()\n",
    "    median_score = df['Test Score'].median()\n",
    "    mode_scores = df['Test Score'].mode().tolist()\n",
    "\n",
    "    # Create a table to display the results\n",
    "    table = [['Statistic', 'Value'],\n",
    "             ['Mean', mean_score],\n",
    "             ['Median', median_score],\n",
    "             ['Mode', ', '.join(map(str, mode_scores))]]\n",
    "\n",
    "    # Display the results in a tabular format\n",
    "    print(tabulate(table, headers='firstrow', tablefmt='grid'))\n",
    "\n",
    "except FileNotFoundError:\n",
    "    print(\"File not found. Please check the file path.\")\n",
    "except Exception as e:\n",
    "    print(f\"An error occurred: {str(e)}\")\n",
    "    "
   ]
  }
 ],
 "metadata": {
  "kernelspec": {
   "display_name": "Python 3 (ipykernel)",
   "language": "python",
   "name": "python3"
  },
  "language_info": {
   "codemirror_mode": {
    "name": "ipython",
    "version": 3
   },
   "file_extension": ".py",
   "mimetype": "text/x-python",
   "name": "python",
   "nbconvert_exporter": "python",
   "pygments_lexer": "ipython3",
   "version": "3.10.8"
  }
 },
 "nbformat": 4,
 "nbformat_minor": 5
}
